{
  "nbformat": 4,
  "nbformat_minor": 0,
  "metadata": {
    "colab": {
      "provenance": []
    },
    "kernelspec": {
      "name": "python3",
      "display_name": "Python 3"
    },
    "language_info": {
      "name": "python"
    }
  },
  "cells": [
    {
      "cell_type": "markdown",
      "source": [
        "# Домашнее задание 1"
      ],
      "metadata": {
        "id": "We7Pfn0QG2b3"
      }
    },
    {
      "cell_type": "markdown",
      "source": [
        "# Задание 1\n",
        "\n",
        "Написать код на Python в среде Jupyter Notebook для решения следующей задачи.\n",
        "\n",
        "Дана переменная, в которой хранится словарь, содержащий геометки для каждого пользователя (пример структуры данных приведён ниже). Вам нужно написать программу, которая выведет на экран множество уникальных геометок всех пользователей."
      ],
      "metadata": {
        "id": "f3BltVZGHGFm"
      }
    },
    {
      "cell_type": "code",
      "execution_count": 1,
      "metadata": {
        "id": "bzJoLb2BGvKr"
      },
      "outputs": [],
      "source": [
        "ids = {'user1': [213, 213, 213, 15, 213],\n",
        "       'user2': [54, 54, 119, 119, 119],\n",
        "       'user3': [213, 98, 98, 35]}"
      ]
    },
    {
      "cell_type": "code",
      "source": [
        "uniq_ids = set()\n",
        "for key, value in ids.items():\n",
        "  uniq_ids = uniq_ids.union(set(value))\n",
        "print(uniq_ids)"
      ],
      "metadata": {
        "colab": {
          "base_uri": "https://localhost:8080/"
        },
        "id": "9iy6T4OlHzpK",
        "outputId": "043fb419-74e6-4d87-b09c-3248ac9b0ed5"
      },
      "execution_count": 7,
      "outputs": [
        {
          "output_type": "stream",
          "name": "stdout",
          "text": [
            "{98, 35, 213, 54, 119, 15}\n"
          ]
        }
      ]
    },
    {
      "cell_type": "markdown",
      "source": [
        "# Задание 2 (необязательное)\n",
        "\n",
        "Написать код на Python в среде Jupyter Notebook для решения следующей задачи.\n",
        "\n",
        "Дана переменная, в которой хранится список поисковых запросов пользователя (пример структуры данных приведён ниже). Вам нужно написать программу, которая выведет на экран распределение количества слов в запросах в требуемом виде."
      ],
      "metadata": {
        "id": "jVZs2CSyJP0_"
      }
    },
    {
      "cell_type": "code",
      "source": [
        "queries = [\n",
        "    'смотреть сериалы онлайн',\n",
        "    'новости спорта',\n",
        "    'афиша кино',\n",
        "    'курс доллара',\n",
        "    'сериалы этим летом',\n",
        "    'курс по питону',\n",
        "    'сериалы про спорт'\n",
        "]"
      ],
      "metadata": {
        "id": "yVo7w8clJFZn"
      },
      "execution_count": 11,
      "outputs": []
    },
    {
      "cell_type": "code",
      "source": [
        "a = {}\n",
        "for line in queries:\n",
        "  line_len = len(line.split())\n",
        "  a.setdefault(line_len, 0)\n",
        "  a[line_len]+=1\n",
        "a"
      ],
      "metadata": {
        "colab": {
          "base_uri": "https://localhost:8080/"
        },
        "id": "xdMrqsz0KU2f",
        "outputId": "041213a4-921d-4e6a-b94c-476f4740a89f"
      },
      "execution_count": 25,
      "outputs": [
        {
          "output_type": "execute_result",
          "data": {
            "text/plain": [
              "{3: 4, 2: 3}"
            ]
          },
          "metadata": {},
          "execution_count": 25
        }
      ]
    },
    {
      "cell_type": "code",
      "source": [
        "for key, value in a.items():\n",
        "  print(\"Поисковых запросов, содержащих {:d} слов(а): {:.2f}%\".format(key, value * 100 / len(queries)))"
      ],
      "metadata": {
        "colab": {
          "base_uri": "https://localhost:8080/"
        },
        "id": "wwqh5zp9MDrk",
        "outputId": "94d42e6f-816f-413a-9def-553049400e81"
      },
      "execution_count": 26,
      "outputs": [
        {
          "output_type": "stream",
          "name": "stdout",
          "text": [
            "Поисковых запросов, содержащих 3 слов(а): 57.14%\n",
            "Поисковых запросов, содержащих 2 слов(а): 42.86%\n"
          ]
        }
      ]
    }
  ]
}